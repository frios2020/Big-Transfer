{
  "nbformat": 4,
  "nbformat_minor": 0,
  "metadata": {
    "kernelspec": {
      "display_name": "Python 3",
      "language": "python",
      "name": "python3"
    },
    "language_info": {
      "codemirror_mode": {
        "name": "ipython",
        "version": 3
      },
      "file_extension": ".py",
      "mimetype": "text/x-python",
      "name": "python",
      "nbconvert_exporter": "python",
      "pygments_lexer": "ipython3",
      "version": "3.7.4"
    },
    "colab": {
      "name": "Copy of Python Assignment 2 - Pandas.ipynb",
      "provenance": [],
      "collapsed_sections": [],
      "toc_visible": true,
      "include_colab_link": true
    }
  },
  "cells": [
    {
      "cell_type": "markdown",
      "metadata": {
        "id": "view-in-github",
        "colab_type": "text"
      },
      "source": [
        "<a href=\"https://colab.research.google.com/github/frios2020/Big-Transfer/blob/master/Python_Assignment_2_Pandas.ipynb\" target=\"_parent\"><img src=\"https://colab.research.google.com/assets/colab-badge.svg\" alt=\"Open In Colab\"/></a>"
      ]
    },
    {
      "cell_type": "markdown",
      "metadata": {
        "id": "cbdYXffUUnZ6"
      },
      "source": [
        "# Please use Pandas dataFrame to work on the following questions\n",
        "For each question, I have produced the output for you, so you know what I expect your code to generate. BE CAREFUL, once you run your code, my output will be gone.\n"
      ]
    },
    {
      "cell_type": "markdown",
      "metadata": {
        "id": "km8t3ADc1zzF"
      },
      "source": [
        "**This notebook was developed using google colab, the files were uploaded in it.**"
      ]
    },
    {
      "cell_type": "code",
      "metadata": {
        "id": "FHt8wAatUnaI"
      },
      "source": [
        "import numpy as np\n",
        "import pandas as pd"
      ],
      "execution_count": 3,
      "outputs": []
    },
    {
      "cell_type": "code",
      "metadata": {
        "id": "ZmiuJuPfUnaK",
        "colab": {
          "base_uri": "https://localhost:8080/",
          "height": 927
        },
        "outputId": "ae1bd1e7-8811-408a-ab8d-dda641edc6c5"
      },
      "source": [
        "# For this practice, please make sure that you download the \"flights.csv\" file to your Jupyter folder\n",
        "# Read flights.csv as a dataframe called flight\n",
        "flight = pd.read_csv('flights.csv')\n",
        "flight"
      ],
      "execution_count": 20,
      "outputs": [
        {
          "output_type": "execute_result",
          "data": {
            "text/html": [
              "<div>\n",
              "<style scoped>\n",
              "    .dataframe tbody tr th:only-of-type {\n",
              "        vertical-align: middle;\n",
              "    }\n",
              "\n",
              "    .dataframe tbody tr th {\n",
              "        vertical-align: top;\n",
              "    }\n",
              "\n",
              "    .dataframe thead th {\n",
              "        text-align: right;\n",
              "    }\n",
              "</style>\n",
              "<table border=\"1\" class=\"dataframe\">\n",
              "  <thead>\n",
              "    <tr style=\"text-align: right;\">\n",
              "      <th></th>\n",
              "      <th>Airport code</th>\n",
              "      <th>Country</th>\n",
              "      <th>City</th>\n",
              "      <th>Path ID</th>\n",
              "      <th>Path Order</th>\n",
              "      <th>Flow Amount (t)</th>\n",
              "      <th>Latitude</th>\n",
              "      <th>Longitude</th>\n",
              "    </tr>\n",
              "  </thead>\n",
              "  <tbody>\n",
              "    <tr>\n",
              "      <th>0</th>\n",
              "      <td>PRG</td>\n",
              "      <td>Czech Republic</td>\n",
              "      <td>Prague</td>\n",
              "      <td>PRG-VIE</td>\n",
              "      <td>1</td>\n",
              "      <td>NaN</td>\n",
              "      <td>50.075538</td>\n",
              "      <td>14.437800</td>\n",
              "    </tr>\n",
              "    <tr>\n",
              "      <th>1</th>\n",
              "      <td>VIE</td>\n",
              "      <td>Austria</td>\n",
              "      <td>Vienna</td>\n",
              "      <td>PRG-VIE</td>\n",
              "      <td>2</td>\n",
              "      <td>250.0</td>\n",
              "      <td>48.208174</td>\n",
              "      <td>16.373819</td>\n",
              "    </tr>\n",
              "    <tr>\n",
              "      <th>2</th>\n",
              "      <td>PRG</td>\n",
              "      <td>Czech Republic</td>\n",
              "      <td>Prague</td>\n",
              "      <td>PRG-MSQ</td>\n",
              "      <td>1</td>\n",
              "      <td>NaN</td>\n",
              "      <td>50.075538</td>\n",
              "      <td>14.437800</td>\n",
              "    </tr>\n",
              "    <tr>\n",
              "      <th>3</th>\n",
              "      <td>MSQ</td>\n",
              "      <td>Belarus</td>\n",
              "      <td>Minsk</td>\n",
              "      <td>PRG-MSQ</td>\n",
              "      <td>2</td>\n",
              "      <td>1200.0</td>\n",
              "      <td>53.904540</td>\n",
              "      <td>27.561524</td>\n",
              "    </tr>\n",
              "    <tr>\n",
              "      <th>4</th>\n",
              "      <td>PRG</td>\n",
              "      <td>Czech Republic</td>\n",
              "      <td>Prague</td>\n",
              "      <td>PRG-TMP</td>\n",
              "      <td>1</td>\n",
              "      <td>NaN</td>\n",
              "      <td>50.075538</td>\n",
              "      <td>14.437800</td>\n",
              "    </tr>\n",
              "    <tr>\n",
              "      <th>5</th>\n",
              "      <td>TMP</td>\n",
              "      <td>Finland</td>\n",
              "      <td>Tampere</td>\n",
              "      <td>PRG-TMP</td>\n",
              "      <td>2</td>\n",
              "      <td>800.0</td>\n",
              "      <td>61.497752</td>\n",
              "      <td>23.760954</td>\n",
              "    </tr>\n",
              "    <tr>\n",
              "      <th>6</th>\n",
              "      <td>PRG</td>\n",
              "      <td>Czech Republic</td>\n",
              "      <td>Prague</td>\n",
              "      <td>PRG-HAM</td>\n",
              "      <td>1</td>\n",
              "      <td>NaN</td>\n",
              "      <td>50.075538</td>\n",
              "      <td>14.437800</td>\n",
              "    </tr>\n",
              "    <tr>\n",
              "      <th>7</th>\n",
              "      <td>HAM</td>\n",
              "      <td>Germany</td>\n",
              "      <td>Hamburg</td>\n",
              "      <td>PRG-HAM</td>\n",
              "      <td>2</td>\n",
              "      <td>400.0</td>\n",
              "      <td>53.551085</td>\n",
              "      <td>9.993682</td>\n",
              "    </tr>\n",
              "    <tr>\n",
              "      <th>8</th>\n",
              "      <td>PRG</td>\n",
              "      <td>Czech Republic</td>\n",
              "      <td>Prague</td>\n",
              "      <td>PRG-ATH</td>\n",
              "      <td>1</td>\n",
              "      <td>NaN</td>\n",
              "      <td>50.075538</td>\n",
              "      <td>14.437800</td>\n",
              "    </tr>\n",
              "    <tr>\n",
              "      <th>9</th>\n",
              "      <td>ATH</td>\n",
              "      <td>Greece</td>\n",
              "      <td>Athens</td>\n",
              "      <td>PRG-ATH</td>\n",
              "      <td>2</td>\n",
              "      <td>150.0</td>\n",
              "      <td>37.983810</td>\n",
              "      <td>23.727539</td>\n",
              "    </tr>\n",
              "    <tr>\n",
              "      <th>10</th>\n",
              "      <td>PRG</td>\n",
              "      <td>Czech Republic</td>\n",
              "      <td>Prague</td>\n",
              "      <td>PRG-DUB</td>\n",
              "      <td>1</td>\n",
              "      <td>NaN</td>\n",
              "      <td>50.075538</td>\n",
              "      <td>14.437800</td>\n",
              "    </tr>\n",
              "    <tr>\n",
              "      <th>11</th>\n",
              "      <td>DUB</td>\n",
              "      <td>Ireland</td>\n",
              "      <td>Dublin</td>\n",
              "      <td>PRG-DUB</td>\n",
              "      <td>2</td>\n",
              "      <td>500.0</td>\n",
              "      <td>53.349805</td>\n",
              "      <td>-6.260310</td>\n",
              "    </tr>\n",
              "    <tr>\n",
              "      <th>12</th>\n",
              "      <td>PRG</td>\n",
              "      <td>Czech Republic</td>\n",
              "      <td>Prague</td>\n",
              "      <td>PRG-MRS</td>\n",
              "      <td>1</td>\n",
              "      <td>NaN</td>\n",
              "      <td>50.075538</td>\n",
              "      <td>14.437800</td>\n",
              "    </tr>\n",
              "    <tr>\n",
              "      <th>13</th>\n",
              "      <td>MRS</td>\n",
              "      <td>France</td>\n",
              "      <td>Marseille</td>\n",
              "      <td>PRG-MRS</td>\n",
              "      <td>2</td>\n",
              "      <td>800.0</td>\n",
              "      <td>43.296482</td>\n",
              "      <td>5.369780</td>\n",
              "    </tr>\n",
              "    <tr>\n",
              "      <th>14</th>\n",
              "      <td>PRG</td>\n",
              "      <td>Czech Republic</td>\n",
              "      <td>Prague</td>\n",
              "      <td>PRG-AMS</td>\n",
              "      <td>1</td>\n",
              "      <td>NaN</td>\n",
              "      <td>50.075538</td>\n",
              "      <td>14.437800</td>\n",
              "    </tr>\n",
              "    <tr>\n",
              "      <th>15</th>\n",
              "      <td>AMS</td>\n",
              "      <td>Netherlands</td>\n",
              "      <td>Amsterdam</td>\n",
              "      <td>PRG-AMS</td>\n",
              "      <td>2</td>\n",
              "      <td>50.0</td>\n",
              "      <td>52.370216</td>\n",
              "      <td>4.895168</td>\n",
              "    </tr>\n",
              "    <tr>\n",
              "      <th>16</th>\n",
              "      <td>PRG</td>\n",
              "      <td>Czech Republic</td>\n",
              "      <td>Prague</td>\n",
              "      <td>PRG-WAW</td>\n",
              "      <td>1</td>\n",
              "      <td>NaN</td>\n",
              "      <td>50.075538</td>\n",
              "      <td>14.437800</td>\n",
              "    </tr>\n",
              "    <tr>\n",
              "      <th>17</th>\n",
              "      <td>WAW</td>\n",
              "      <td>Poland</td>\n",
              "      <td>Warsaw</td>\n",
              "      <td>PRG-WAW</td>\n",
              "      <td>2</td>\n",
              "      <td>550.0</td>\n",
              "      <td>52.229676</td>\n",
              "      <td>21.012229</td>\n",
              "    </tr>\n",
              "    <tr>\n",
              "      <th>18</th>\n",
              "      <td>PRG</td>\n",
              "      <td>Czech Republic</td>\n",
              "      <td>Prague</td>\n",
              "      <td>PRG-LIS</td>\n",
              "      <td>1</td>\n",
              "      <td>NaN</td>\n",
              "      <td>50.075538</td>\n",
              "      <td>14.437800</td>\n",
              "    </tr>\n",
              "    <tr>\n",
              "      <th>19</th>\n",
              "      <td>LIS</td>\n",
              "      <td>Portugal</td>\n",
              "      <td>Lisbon</td>\n",
              "      <td>PRG-LIS</td>\n",
              "      <td>2</td>\n",
              "      <td>130.0</td>\n",
              "      <td>38.722252</td>\n",
              "      <td>-9.139337</td>\n",
              "    </tr>\n",
              "    <tr>\n",
              "      <th>20</th>\n",
              "      <td>PRG</td>\n",
              "      <td>Czech Republic</td>\n",
              "      <td>Prague</td>\n",
              "      <td>PRG-BEG</td>\n",
              "      <td>1</td>\n",
              "      <td>NaN</td>\n",
              "      <td>50.075538</td>\n",
              "      <td>14.437800</td>\n",
              "    </tr>\n",
              "    <tr>\n",
              "      <th>21</th>\n",
              "      <td>BEG</td>\n",
              "      <td>Serbia</td>\n",
              "      <td>Belgrad</td>\n",
              "      <td>PRG-BEG</td>\n",
              "      <td>2</td>\n",
              "      <td>920.0</td>\n",
              "      <td>44.786568</td>\n",
              "      <td>20.448922</td>\n",
              "    </tr>\n",
              "    <tr>\n",
              "      <th>22</th>\n",
              "      <td>PRG</td>\n",
              "      <td>Czech Republic</td>\n",
              "      <td>Prague</td>\n",
              "      <td>PRG-IST</td>\n",
              "      <td>1</td>\n",
              "      <td>NaN</td>\n",
              "      <td>50.075538</td>\n",
              "      <td>14.437800</td>\n",
              "    </tr>\n",
              "    <tr>\n",
              "      <th>23</th>\n",
              "      <td>IST</td>\n",
              "      <td>Turkey</td>\n",
              "      <td>Istanbul</td>\n",
              "      <td>PRG-IST</td>\n",
              "      <td>2</td>\n",
              "      <td>810.0</td>\n",
              "      <td>41.008238</td>\n",
              "      <td>28.978359</td>\n",
              "    </tr>\n",
              "    <tr>\n",
              "      <th>24</th>\n",
              "      <td>PRG</td>\n",
              "      <td>Czech Republic</td>\n",
              "      <td>Prague</td>\n",
              "      <td>PRG-DNK</td>\n",
              "      <td>1</td>\n",
              "      <td>NaN</td>\n",
              "      <td>50.075538</td>\n",
              "      <td>14.437800</td>\n",
              "    </tr>\n",
              "    <tr>\n",
              "      <th>25</th>\n",
              "      <td>DNK</td>\n",
              "      <td>Ukraine</td>\n",
              "      <td>Dnepropetrovsk</td>\n",
              "      <td>PRG-DNK</td>\n",
              "      <td>2</td>\n",
              "      <td>1300.0</td>\n",
              "      <td>48.464717</td>\n",
              "      <td>35.046183</td>\n",
              "    </tr>\n",
              "    <tr>\n",
              "      <th>26</th>\n",
              "      <td>PRG</td>\n",
              "      <td>Czech Republic</td>\n",
              "      <td>Prague</td>\n",
              "      <td>PRG-FRA</td>\n",
              "      <td>1</td>\n",
              "      <td>NaN</td>\n",
              "      <td>50.075538</td>\n",
              "      <td>14.437800</td>\n",
              "    </tr>\n",
              "    <tr>\n",
              "      <th>27</th>\n",
              "      <td>FRA</td>\n",
              "      <td>Germany</td>\n",
              "      <td>Frankfurt</td>\n",
              "      <td>PRG-FRA</td>\n",
              "      <td>2</td>\n",
              "      <td>1000.0</td>\n",
              "      <td>50.110922</td>\n",
              "      <td>8.682127</td>\n",
              "    </tr>\n",
              "    <tr>\n",
              "      <th>28</th>\n",
              "      <td>PRG</td>\n",
              "      <td>Czech Republic</td>\n",
              "      <td>Prague</td>\n",
              "      <td>PRG-SOF</td>\n",
              "      <td>1</td>\n",
              "      <td>NaN</td>\n",
              "      <td>50.075538</td>\n",
              "      <td>14.437800</td>\n",
              "    </tr>\n",
              "    <tr>\n",
              "      <th>29</th>\n",
              "      <td>SOF</td>\n",
              "      <td>Bulgaria</td>\n",
              "      <td>Sofia</td>\n",
              "      <td>PRG-SOF</td>\n",
              "      <td>2</td>\n",
              "      <td>380.0</td>\n",
              "      <td>42.697708</td>\n",
              "      <td>23.321868</td>\n",
              "    </tr>\n",
              "  </tbody>\n",
              "</table>\n",
              "</div>"
            ],
            "text/plain": [
              "   Airport code         Country  ...   Latitude  Longitude\n",
              "0           PRG  Czech Republic  ...  50.075538  14.437800\n",
              "1           VIE         Austria  ...  48.208174  16.373819\n",
              "2           PRG  Czech Republic  ...  50.075538  14.437800\n",
              "3           MSQ         Belarus  ...  53.904540  27.561524\n",
              "4           PRG  Czech Republic  ...  50.075538  14.437800\n",
              "5           TMP         Finland  ...  61.497752  23.760954\n",
              "6           PRG  Czech Republic  ...  50.075538  14.437800\n",
              "7           HAM         Germany  ...  53.551085   9.993682\n",
              "8           PRG  Czech Republic  ...  50.075538  14.437800\n",
              "9           ATH          Greece  ...  37.983810  23.727539\n",
              "10          PRG  Czech Republic  ...  50.075538  14.437800\n",
              "11          DUB         Ireland  ...  53.349805  -6.260310\n",
              "12          PRG  Czech Republic  ...  50.075538  14.437800\n",
              "13          MRS          France  ...  43.296482   5.369780\n",
              "14          PRG  Czech Republic  ...  50.075538  14.437800\n",
              "15          AMS     Netherlands  ...  52.370216   4.895168\n",
              "16          PRG  Czech Republic  ...  50.075538  14.437800\n",
              "17          WAW          Poland  ...  52.229676  21.012229\n",
              "18          PRG  Czech Republic  ...  50.075538  14.437800\n",
              "19          LIS        Portugal  ...  38.722252  -9.139337\n",
              "20          PRG  Czech Republic  ...  50.075538  14.437800\n",
              "21          BEG          Serbia  ...  44.786568  20.448922\n",
              "22          PRG  Czech Republic  ...  50.075538  14.437800\n",
              "23          IST          Turkey  ...  41.008238  28.978359\n",
              "24          PRG  Czech Republic  ...  50.075538  14.437800\n",
              "25          DNK         Ukraine  ...  48.464717  35.046183\n",
              "26          PRG  Czech Republic  ...  50.075538  14.437800\n",
              "27          FRA         Germany  ...  50.110922   8.682127\n",
              "28          PRG  Czech Republic  ...  50.075538  14.437800\n",
              "29          SOF        Bulgaria  ...  42.697708  23.321868\n",
              "\n",
              "[30 rows x 8 columns]"
            ]
          },
          "metadata": {
            "tags": []
          },
          "execution_count": 20
        }
      ]
    },
    {
      "cell_type": "code",
      "metadata": {
        "id": "42DOGrceUnaN",
        "colab": {
          "base_uri": "https://localhost:8080/",
          "height": 194
        },
        "outputId": "c3a047a0-e982-4212-b6f9-c3cf139d276a"
      },
      "source": [
        "# Question 1: Check the column head of the table\n",
        "flight.head()"
      ],
      "execution_count": null,
      "outputs": [
        {
          "output_type": "execute_result",
          "data": {
            "text/html": [
              "<div>\n",
              "<style scoped>\n",
              "    .dataframe tbody tr th:only-of-type {\n",
              "        vertical-align: middle;\n",
              "    }\n",
              "\n",
              "    .dataframe tbody tr th {\n",
              "        vertical-align: top;\n",
              "    }\n",
              "\n",
              "    .dataframe thead th {\n",
              "        text-align: right;\n",
              "    }\n",
              "</style>\n",
              "<table border=\"1\" class=\"dataframe\">\n",
              "  <thead>\n",
              "    <tr style=\"text-align: right;\">\n",
              "      <th></th>\n",
              "      <th>Airport code</th>\n",
              "      <th>Country</th>\n",
              "      <th>City</th>\n",
              "      <th>Path ID</th>\n",
              "      <th>Path Order</th>\n",
              "      <th>Flow Amount (t)</th>\n",
              "      <th>Latitude</th>\n",
              "      <th>Longitude</th>\n",
              "    </tr>\n",
              "  </thead>\n",
              "  <tbody>\n",
              "    <tr>\n",
              "      <th>0</th>\n",
              "      <td>PRG</td>\n",
              "      <td>Czech Republic</td>\n",
              "      <td>Prague</td>\n",
              "      <td>PRG-VIE</td>\n",
              "      <td>1</td>\n",
              "      <td>NaN</td>\n",
              "      <td>50.075538</td>\n",
              "      <td>14.437800</td>\n",
              "    </tr>\n",
              "    <tr>\n",
              "      <th>1</th>\n",
              "      <td>VIE</td>\n",
              "      <td>Austria</td>\n",
              "      <td>Vienna</td>\n",
              "      <td>PRG-VIE</td>\n",
              "      <td>2</td>\n",
              "      <td>250.0</td>\n",
              "      <td>48.208174</td>\n",
              "      <td>16.373819</td>\n",
              "    </tr>\n",
              "    <tr>\n",
              "      <th>2</th>\n",
              "      <td>PRG</td>\n",
              "      <td>Czech Republic</td>\n",
              "      <td>Prague</td>\n",
              "      <td>PRG-MSQ</td>\n",
              "      <td>1</td>\n",
              "      <td>NaN</td>\n",
              "      <td>50.075538</td>\n",
              "      <td>14.437800</td>\n",
              "    </tr>\n",
              "    <tr>\n",
              "      <th>3</th>\n",
              "      <td>MSQ</td>\n",
              "      <td>Belarus</td>\n",
              "      <td>Minsk</td>\n",
              "      <td>PRG-MSQ</td>\n",
              "      <td>2</td>\n",
              "      <td>1200.0</td>\n",
              "      <td>53.904540</td>\n",
              "      <td>27.561524</td>\n",
              "    </tr>\n",
              "    <tr>\n",
              "      <th>4</th>\n",
              "      <td>PRG</td>\n",
              "      <td>Czech Republic</td>\n",
              "      <td>Prague</td>\n",
              "      <td>PRG-TMP</td>\n",
              "      <td>1</td>\n",
              "      <td>NaN</td>\n",
              "      <td>50.075538</td>\n",
              "      <td>14.437800</td>\n",
              "    </tr>\n",
              "  </tbody>\n",
              "</table>\n",
              "</div>"
            ],
            "text/plain": [
              "  Airport code         Country    City  ... Flow Amount (t)   Latitude  Longitude\n",
              "0          PRG  Czech Republic  Prague  ...             NaN  50.075538  14.437800\n",
              "1          VIE         Austria  Vienna  ...           250.0  48.208174  16.373819\n",
              "2          PRG  Czech Republic  Prague  ...             NaN  50.075538  14.437800\n",
              "3          MSQ         Belarus   Minsk  ...          1200.0  53.904540  27.561524\n",
              "4          PRG  Czech Republic  Prague  ...             NaN  50.075538  14.437800\n",
              "\n",
              "[5 rows x 8 columns]"
            ]
          },
          "metadata": {
            "tags": []
          },
          "execution_count": 9
        }
      ]
    },
    {
      "cell_type": "code",
      "metadata": {
        "id": "9k-UK3esUnaO",
        "colab": {
          "base_uri": "https://localhost:8080/"
        },
        "outputId": "afa1e1c2-2465-4fb7-fa69-ff57a5a275c0"
      },
      "source": [
        "# Question 2: Find how many rows are in the table (HINT: info.)\n",
        "len(flight)"
      ],
      "execution_count": 21,
      "outputs": [
        {
          "output_type": "execute_result",
          "data": {
            "text/plain": [
              "30"
            ]
          },
          "metadata": {
            "tags": []
          },
          "execution_count": 21
        }
      ]
    },
    {
      "cell_type": "code",
      "metadata": {
        "id": "cylTeoFnUnaP",
        "colab": {
          "base_uri": "https://localhost:8080/"
        },
        "outputId": "42948a23-70c2-40c5-d734-0eabfe5221ff"
      },
      "source": [
        "# Question 3: What is the average flow amount?\n",
        "# HINT: Here is one very good example of why the iloc function is useful -- the column name \"Flow Amount (t)\" would be\n",
        "# inconvenient to type, so you might want to use the position of the column instead... If you prefer column name, that \n",
        "# is fine, too.\n",
        "flight[\"Flow Amount (t)\"].mean()"
      ],
      "execution_count": null,
      "outputs": [
        {
          "output_type": "execute_result",
          "data": {
            "text/plain": [
              "616.0"
            ]
          },
          "metadata": {
            "tags": []
          },
          "execution_count": 16
        }
      ]
    },
    {
      "cell_type": "code",
      "metadata": {
        "id": "YrnbkNTrUnaQ",
        "colab": {
          "base_uri": "https://localhost:8080/"
        },
        "outputId": "669e26e7-a9bc-4df9-b964-46d39be27dcb"
      },
      "source": [
        "# Question 4: What is the highest flow amount?\n",
        "flight[\"Flow Amount (t)\"].max()"
      ],
      "execution_count": null,
      "outputs": [
        {
          "output_type": "execute_result",
          "data": {
            "text/plain": [
              "1300.0"
            ]
          },
          "metadata": {
            "tags": []
          },
          "execution_count": 17
        }
      ]
    },
    {
      "cell_type": "code",
      "metadata": {
        "id": "1mvfI-dIUnaR",
        "colab": {
          "base_uri": "https://localhost:8080/"
        },
        "outputId": "7e458814-32e8-49b0-9fce-bac21818cbd2"
      },
      "source": [
        "# Question 5: Which city has the flow amount of 550?\n",
        "# Hint: Recall back to our discussion on the relational algebra of SELECTION and the Python bracket notation \n",
        "flight.loc[flight[\"Flow Amount (t)\"]==550,'City']"
      ],
      "execution_count": null,
      "outputs": [
        {
          "output_type": "execute_result",
          "data": {
            "text/plain": [
              "17    Warsaw\n",
              "Name: City, dtype: object"
            ]
          },
          "metadata": {
            "tags": []
          },
          "execution_count": 24
        }
      ]
    },
    {
      "cell_type": "code",
      "metadata": {
        "id": "1LfUg1QkUnaS",
        "colab": {
          "base_uri": "https://localhost:8080/"
        },
        "outputId": "7ef8638a-6d96-440b-c84c-fd8ff1447a15"
      },
      "source": [
        "# Now let's work with the GBI Excel sheet -- if you have done the IO lab, the file should already be in your working folder. \n",
        "# Otherwise, please go to canvas and find the file under the IO lab, download it to your working folder. Read GBI file and name it\n",
        "# GBI\n",
        "gbi = pd.read_excel('GBI.xlsx')\n",
        "gbi.columns"
      ],
      "execution_count": 4,
      "outputs": [
        {
          "output_type": "execute_result",
          "data": {
            "text/plain": [
              "Index(['YEAR', 'MONTH', 'DAY', 'Customer', 'CustomerDescr', 'City', 'Salesorg',\n",
              "       'Country', 'OrderNumber', 'OrderItem', 'Product', 'ProductDescr',\n",
              "       'Product Category', 'Division', 'SalesQuantity', 'UnitOfMeasure',\n",
              "       'Revenue', 'Currency', 'Discount', 'CostOfGoodsManufactured',\n",
              "       'Revenue USD', 'Discount USD', 'Cogm USD'],\n",
              "      dtype='object')"
            ]
          },
          "metadata": {
            "tags": []
          },
          "execution_count": 4
        }
      ]
    },
    {
      "cell_type": "code",
      "metadata": {
        "id": "yNP4GpinUnaT",
        "colab": {
          "base_uri": "https://localhost:8080/"
        },
        "outputId": "9287b9cc-b307-4189-e0b1-76cb35010cb7"
      },
      "source": [
        "# Question 6: What is the average REVENUE for each Product Category? [HINT: You need to group by Product Category]\n",
        "gbi.groupby(\"Product Category\")[\"Revenue\"].mean()"
      ],
      "execution_count": null,
      "outputs": [
        {
          "output_type": "execute_result",
          "data": {
            "text/plain": [
              "Product Category\n",
              "ACC     108.261038\n",
              "EBI    8610.636888\n",
              "ORB    7796.678130\n",
              "ROB    8313.303493\n",
              "TOU    8299.358516\n",
              "TRE    1481.536454\n",
              "Name: Revenue, dtype: float64"
            ]
          },
          "metadata": {
            "tags": []
          },
          "execution_count": 36
        }
      ]
    },
    {
      "cell_type": "code",
      "metadata": {
        "id": "ZoYnUynnUnaU",
        "colab": {
          "base_uri": "https://localhost:8080/"
        },
        "outputId": "9c95bbca-5f2e-4b69-be37-e4566639bc54"
      },
      "source": [
        "# Question 7: How many transations have the lowest revenue?\n",
        "X = gbi.loc[gbi[\"Revenue USD\"]==gbi[\"Revenue USD\"].min()]\n",
        "X, print(\"Num. of transations: \" + str(len(X)))"
      ],
      "execution_count": 14,
      "outputs": [
        {
          "output_type": "stream",
          "text": [
            "Num. of transations: 84\n"
          ],
          "name": "stdout"
        },
        {
          "output_type": "execute_result",
          "data": {
            "text/plain": [
              "(       YEAR  MONTH  DAY  ...  Revenue USD Discount USD Cogm USD\n",
              " 8      2007      1    1  ...         18.0         0.90      9.0\n",
              " 66     2007      1    2  ...         18.0         0.54      9.0\n",
              " 118    2007      1    4  ...         18.0         0.54      9.0\n",
              " 368    2007      1   18  ...         18.0         0.54      9.0\n",
              " 382    2007      1   19  ...         18.0         0.54      9.0\n",
              " ...     ...    ...  ...  ...          ...          ...      ...\n",
              " 10459  2007     12   25  ...         18.0         0.90      9.0\n",
              " 10465  2007     12   26  ...         18.0         0.54      9.0\n",
              " 10495  2007     12   28  ...         18.0         0.90      9.0\n",
              " 10511  2007     12   28  ...         18.0         0.54      9.0\n",
              " 10527  2007     12   31  ...         18.0         0.54      9.0\n",
              " \n",
              " [84 rows x 23 columns], None)"
            ]
          },
          "metadata": {
            "tags": []
          },
          "execution_count": 14
        }
      ]
    },
    {
      "cell_type": "code",
      "metadata": {
        "id": "7B-T0i0FUnaU",
        "colab": {
          "base_uri": "https://localhost:8080/"
        },
        "outputId": "48bb7583-838a-4234-977a-79a6baf53325"
      },
      "source": [
        "# Question 8: What is the average revenue for each year? \n",
        "gbi.groupby(\"YEAR\")[\"Revenue\"].mean()"
      ],
      "execution_count": null,
      "outputs": [
        {
          "output_type": "execute_result",
          "data": {
            "text/plain": [
              "YEAR\n",
              "2007    4999.140553\n",
              "2008    5129.561252\n",
              "2009    4830.588585\n",
              "2010    4983.660594\n",
              "2011    5183.147895\n",
              "Name: Revenue, dtype: float64"
            ]
          },
          "metadata": {
            "tags": []
          },
          "execution_count": 52
        }
      ]
    },
    {
      "cell_type": "code",
      "metadata": {
        "id": "AZsmFAb8UnaV",
        "colab": {
          "base_uri": "https://localhost:8080/"
        },
        "outputId": "6eb8498a-34ff-48cf-cfb4-e03a06d13524"
      },
      "source": [
        "# Question 9: How many unique product names are there? \n",
        "# HINT: 1. ProductDecr has all product names\n",
        "# 2. unique() returns an ARRAY\n",
        "# 3. numpy has a size function that returns the size of an array. Check the Web and learn how to use it\n",
        "\n",
        "num_unique_products = len(gbi.ProductDescr.unique())\n",
        "print(\"There are: \" + str(num_unique_products) + \" unique product names\")\n"
      ],
      "execution_count": 17,
      "outputs": [
        {
          "output_type": "stream",
          "text": [
            "There are: 28 unique product names\n"
          ],
          "name": "stdout"
        }
      ]
    },
    {
      "cell_type": "code",
      "metadata": {
        "id": "CgW6_S3rkpqa"
      },
      "source": [
        ""
      ],
      "execution_count": null,
      "outputs": []
    }
  ]
}